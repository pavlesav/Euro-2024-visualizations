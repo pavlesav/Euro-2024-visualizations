{
 "cells": [
  {
   "cell_type": "code",
   "execution_count": 45,
   "id": "4c5b4b72",
   "metadata": {},
   "outputs": [],
   "source": [
    "import pandas as pd\n",
    "\n",
    "# Load event data (already exported from StatsBomb)\n",
    "events = pd.read_csv('../data/euro2024_events.csv')\n",
    "\n",
    "# Extract shots dataframe\n",
    "shots_euro = events[events['type'] == 'Shot'].copy()\n",
    "euro_matches = pd.read_csv('../data/euro2024_matches.csv')\n",
    "\n",
    "matches = euro_matches[['match_id', 'home_team', 'away_team']]\n",
    "def get_opponent(row):\n",
    "    if row['team'] == row['home_team']:\n",
    "        return row['away_team']\n",
    "    elif row['team'] == row['away_team']:\n",
    "        return row['home_team']\n",
    "    return None\n",
    "\n",
    "shots_euro = shots_euro.merge(matches, on='match_id', how='left')\n",
    "shots_euro['opponent_team'] = shots_euro.apply(get_opponent, axis=1)\n",
    "\n",
    "pd.set_option('display.max_columns', None)"
   ]
  },
  {
   "cell_type": "code",
   "execution_count": 11,
   "id": "b9c83750",
   "metadata": {},
   "outputs": [
    {
     "name": "stdout",
     "output_type": "stream",
     "text": [
      "(293,)\n",
      "(114, 28)\n",
      "(147, 28)\n",
      "                                        50_50_parsed  outcome_id  \\\n",
      "1  {'outcome': {'id': 3, 'name': 'Success To Team'}}           3   \n",
      "3  {'outcome': {'id': 3, 'name': 'Success To Team'}}           3   \n",
      "5  {'outcome': {'id': 3, 'name': 'Success To Team'}}           3   \n",
      "7              {'outcome': {'id': 4, 'name': 'Won'}}           4   \n",
      "9  {'outcome': {'id': 3, 'name': 'Success To Team'}}           3   \n",
      "\n",
      "      outcome_name  \n",
      "1  Success To Team  \n",
      "3  Success To Team  \n",
      "5  Success To Team  \n",
      "7              Won  \n",
      "9  Success To Team  \n",
      "                             50_50_parsed  outcome_id outcome_name\n",
      "0  {'outcome': {'id': 1, 'name': 'Lost'}}           1         Lost\n",
      "2  {'outcome': {'id': 1, 'name': 'Lost'}}           1         Lost\n",
      "4  {'outcome': {'id': 1, 'name': 'Lost'}}           1         Lost\n",
      "6  {'outcome': {'id': 1, 'name': 'Lost'}}           1         Lost\n",
      "8  {'outcome': {'id': 1, 'name': 'Lost'}}           1         Lost\n",
      "outcome_name\n",
      "Lost                     147\n",
      "Success To Team           63\n",
      "Won                       51\n",
      "Success To Opposition     32\n",
      "Name: count, dtype: int64\n"
     ]
    }
   ],
   "source": [
    "import pandas as pd\n",
    "import ast\n",
    "\n",
    "fifty_fifties = pd.read_csv('../data/euro2024_50_50s.csv')\n",
    "\n",
    "# Parse the JSON-like strings (they use single quotes) into real dicts\n",
    "fifty_fifties['50_50_parsed'] = fifty_fifties['50_50'].apply(\n",
    "    lambda s: ast.literal_eval(s) if pd.notna(s) and isinstance(s, str) else None\n",
    ")\n",
    "\n",
    "# Extract outcome fields for easy filtering\n",
    "fifty_fifties['outcome'] = fifty_fifties['50_50_parsed'].apply(lambda d: d.get('outcome') if isinstance(d, dict) else None)\n",
    "fifty_fifties['outcome_id'] = fifty_fifties['outcome'].apply(lambda o: o.get('id') if isinstance(o, dict) else None)\n",
    "fifty_fifties['outcome_name'] = fifty_fifties['outcome'].apply(lambda o: o.get('name') if isinstance(o, dict) else None)\n",
    "\n",
    "# Filter successful 50/50s (choose by name or by id depending on your data)\n",
    "success_names = ['Won', 'Success To Team'] \n",
    "success_ids = [108, 147]  # adjust if your CSV uses different ids , 109, 148\n",
    "unsuccess_names = ['Lost', 'Failure To Team']\n",
    "unsuccess_ids = [109, 148]  # adjust if your CSV uses different ids\n",
    "\n",
    "successful = fifty_fifties[\n",
    "    fifty_fifties['outcome_name'].isin(success_names) |\n",
    "    fifty_fifties['outcome_id'].isin(success_ids)\n",
    "]\n",
    "\n",
    "unsuccessful = fifty_fifties[\n",
    "    fifty_fifties['outcome_name'].isin(unsuccess_names) |\n",
    "    fifty_fifties['outcome_id'].isin(unsuccess_ids)\n",
    "]\n",
    "\n",
    "print(fifty_fifties['50_50_parsed'].shape)\n",
    "print(successful.shape)\n",
    "print(unsuccessful.shape)\n",
    "\n",
    "print(successful[['50_50_parsed', 'outcome_id', 'outcome_name']].head())\n",
    "print(unsuccessful[['50_50_parsed', 'outcome_id', 'outcome_name']].head())\n",
    "\n",
    "# Count occurrences of each outcome\n",
    "outcome_counts = fifty_fifties['outcome_name'].value_counts()\n",
    "print(outcome_counts)"
   ]
  },
  {
   "cell_type": "code",
   "execution_count": 6,
   "id": "8d81b2c4",
   "metadata": {},
   "outputs": [
    {
     "data": {
      "text/plain": [
       "0                 {'outcome': {'id': 1, 'name': 'Lost'}}\n",
       "1      {'outcome': {'id': 3, 'name': 'Success To Team'}}\n",
       "2                 {'outcome': {'id': 1, 'name': 'Lost'}}\n",
       "3      {'outcome': {'id': 3, 'name': 'Success To Team'}}\n",
       "4                 {'outcome': {'id': 1, 'name': 'Lost'}}\n",
       "                             ...                        \n",
       "288                {'outcome': {'id': 4, 'name': 'Won'}}\n",
       "289               {'outcome': {'id': 1, 'name': 'Lost'}}\n",
       "290    {'outcome': {'id': 3, 'name': 'Success To Team'}}\n",
       "291               {'outcome': {'id': 1, 'name': 'Lost'}}\n",
       "292                {'outcome': {'id': 4, 'name': 'Won'}}\n",
       "Name: 50_50_parsed, Length: 293, dtype: object"
      ]
     },
     "execution_count": 6,
     "metadata": {},
     "output_type": "execute_result"
    }
   ],
   "source": [
    "fifty_fifties['50_50_parsed']"
   ]
  }
 ],
 "metadata": {
  "kernelspec": {
   "display_name": "Python 3",
   "language": "python",
   "name": "python3"
  },
  "language_info": {
   "codemirror_mode": {
    "name": "ipython",
    "version": 3
   },
   "file_extension": ".py",
   "mimetype": "text/x-python",
   "name": "python",
   "nbconvert_exporter": "python",
   "pygments_lexer": "ipython3",
   "version": "3.13.2"
  }
 },
 "nbformat": 4,
 "nbformat_minor": 5
}
